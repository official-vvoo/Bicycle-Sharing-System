{
 "cells": [
  {
   "cell_type": "code",
   "execution_count": 1,
   "metadata": {},
   "outputs": [],
   "source": [
    "import os\n",
    "import datetime\n",
    "import platform\n",
    "import numpy as np\n",
    "import pandas as pd\n",
    "import seaborn as sns\n",
    "import matplotlib.pyplot as plt\n",
    "if platform.system() == 'Darwin': #맥\n",
    "        plt.rc('font', family='AppleGothic') \n",
    "elif platform.system() == 'Windows': #윈도우\n",
    "        plt.rc('font', family='Malgun Gothic') \n",
    "elif platform.system() == 'Linux': #리눅스 (구글 콜랩)\n",
    "        #!wget \"https://www.wfonts.com/download/data/2016/06/13/malgun-gothic/malgun.ttf\"\n",
    "        #!mv malgun.ttf /usr/share/fonts/truetype/\n",
    "        #import matplotlib.font_manager as fm \n",
    "        #fm._rebuild() \n",
    "        plt.rc('font', family='Malgun Gothic')"
   ]
  },
  {
   "cell_type": "markdown",
   "metadata": {},
   "source": [
    "## 고정값 생성"
   ]
  },
  {
   "cell_type": "code",
   "execution_count": 2,
   "metadata": {},
   "outputs": [],
   "source": [
    "CONST_PATH_WORKSPACE = os.path.join(os.getcwd(), os.pardir, os.pardir)\n",
    "\n",
    "CONST_STR_SOURCEDATA = \"1.source_data\"\n",
    "CONST_STR_PREPROCESSDATA = \"2.preprocessed_data\"\n",
    "CONST_STR_TEMP = \"temp\"\n",
    "CONST_STR_ENCODING = 'cp949'\n",
    "CONST_STR_SELECTED_OPTION = \"하차\"\n",
    "CONST_STR_BICYCLE = \"bicycle\"\n",
    "CONST_STR_BUS = \"bus\"\n",
    "CONST_STR_SUBWAY = \"subway\"\n",
    "\n",
    "# bus\n",
    "CONST_STR_BUSDAILY = \"bus_daily\"\n",
    "CONST_STR_BUSTIME = \"bus_time\"\n",
    "\n",
    "# subway\n",
    "CONST_STR_SUBWAYDAILY = \"subway_daily\"\n",
    "CONST_STR_SUBWAYTIME = \"subway_time\"\n",
    "\n",
    "CONST_EXT_CSV = \".csv\"\n",
    "\n",
    "# 기본 폴더 설정\n",
    "CONST_PATH_SOURCEDATA = os.path.join(CONST_PATH_WORKSPACE, CONST_STR_SOURCEDATA)\n",
    "CONST_PATH_PREPROCESSEDDATA = os.path.join(CONST_PATH_WORKSPACE, CONST_STR_PREPROCESSDATA)\n",
    "CONST_PATH_TEMP = os.path.join(CONST_PATH_WORKSPACE, CONST_STR_TEMP)\n",
    "\n",
    "# source data\n",
    "CONST_PATH_BUS_META = os.path.join(CONST_PATH_SOURCEDATA, \"서울시 버스정류소 위치정보/서울시 버스정류소 위치정보(2022.08.24).csv\")\n",
    "CONST_PATH_BUS_DAILY = os.path.join(CONST_PATH_SOURCEDATA, \"서울시 버스노선별 정류장별 승하차 인원 정보\")\n",
    "CONST_PATH_BUS_TIME = os.path.join(CONST_PATH_SOURCEDATA, \"서울시 버스노선별 정류장별 시간대별 승하차 인원 정보\")\n",
    "CONST_PATH_SUBWAY_DAILY = os.path.join(CONST_PATH_SOURCEDATA, \"서울시 지하철호선별 역별 승하차 인원 정보\")\n",
    "CONST_PATH_SUBWAY_TIME = os.path.join(CONST_PATH_SOURCEDATA, \"서울시 지하철 호선별 역별 시간대별 승하차 인원 정보\")\n",
    "CONST_PATH_BICYCLE = os.path.join(CONST_PATH_SOURCEDATA, \"서울시따릉이대여소별대여반납승객수(22년1월~22년9월).csv\")\n",
    "\n",
    "# preprocesed data\n",
    "CONST_PATH_MAPPING = os.path.join(CONST_PATH_PREPROCESSEDDATA, \"서울시_따릉이대여소별_고도_지하철역_정거장매핑.csv\")"
   ]
  },
  {
   "cell_type": "code",
   "execution_count": 3,
   "metadata": {},
   "outputs": [],
   "source": [
    "# check folder path\n",
    "if not os.path.exists(CONST_PATH_TEMP):\n",
    "    os.makedirs(CONST_PATH_TEMP) "
   ]
  },
  {
   "cell_type": "markdown",
   "metadata": {},
   "source": [
    "## 함수 정의"
   ]
  },
  {
   "cell_type": "code",
   "execution_count": 4,
   "metadata": {},
   "outputs": [],
   "source": [
    "def merge_df_from_storage(path, encoding=CONST_STR_ENCODING, index_col=None, reset_index=False):\n",
    "    '''\n",
    "    경로 내 하위 파일(.csv)들을 읽어와서 데이터 프레임 형태로 추출\n",
    "    '''\n",
    "    file_list = [x for x in os.listdir(path) if (\"._\" not in x) and (CONST_EXT_CSV in x)]\n",
    "    file_list.sort()\n",
    "\n",
    "    for i in range(len(file_list)):\n",
    "        file_path = os.path.join(path, file_list[i])\n",
    "        df = pd.read_csv(file_path, encoding=encoding, index_col=index_col)\n",
    "        if reset_index:\n",
    "            df.reset_index(drop=True,inplace=True)\n",
    "\n",
    "        total_df = df if i == 0 else pd.concat((total_df, df))\n",
    "        \n",
    "        del file_path\n",
    "        del df\n",
    "    \n",
    "    return total_df.reset_index(drop=True)"
   ]
  },
  {
   "cell_type": "code",
   "execution_count": 5,
   "metadata": {},
   "outputs": [],
   "source": [
    "def extract_df_from_id_list(df, id_list, key, type=str):\n",
    "    '''\n",
    "    데이터 프레임 내 컬럼명 'key' 값 중 'id_list' 내 존재하는 값을 데이터 프레임으로 추출\n",
    "    '''\n",
    "    assert type in [str, int]\n",
    "    if type == str:\n",
    "        id_list = [str(x).split('(')[0] for x in id_list]\n",
    "        df[key] = df[key].astype(str).str.split('(').str[0]\n",
    "    elif type == int:\n",
    "        id_list = [int(x) for x in id_list]\n",
    "        df[key] = df[key].astype(type)\n",
    "\n",
    "    for i in range(len(id_list)):\n",
    "        extracted_df = df[df[key]==id_list[i]]\n",
    "\n",
    "        total_df = extracted_df if i == 0 else pd.concat((total_df, extracted_df))\n",
    "        del extracted_df\n",
    "    return total_df.reset_index(drop=True)"
   ]
  },
  {
   "cell_type": "code",
   "execution_count": 6,
   "metadata": {},
   "outputs": [],
   "source": [
    "def extract_col(col_list, opt = '하차'):\n",
    "    '''\n",
    "    승차, 하차 중 특정 한 값만 컬럼명으로 추출\n",
    "    '''\n",
    "\n",
    "    '''\n",
    "    초기 개발 함수\n",
    "    default_col_list = [x for x in col_list if \"승객수\" not in x]\n",
    "    selected_col_list = [x for x in col_list if opt in x]\n",
    "    return default_col_list + selected_col_list\n",
    "    '''\n",
    "    \n",
    "    opt_list = [\"승차\", \"하차\"]\n",
    "    assert opt in opt_list\n",
    "    drop_opt = opt_list[0] if opt==opt_list[1] else opt_list[0]\n",
    "    return [x for x in col_list if drop_opt not in x]"
   ]
  },
  {
   "cell_type": "code",
   "execution_count": 7,
   "metadata": {},
   "outputs": [],
   "source": [
    "def transform_nums_to_ratio(df, opt=CONST_STR_SELECTED_OPTION):\n",
    "    '''\n",
    "    시간대 별 승하차('opt') 승객수를 해당 월의 비율로 변환\n",
    "    '''\n",
    "    selected_col_list = [x for x in df if opt in x]\n",
    "    df['total'] = df[selected_col_list].sum(axis=1)\n",
    "    for col in selected_col_list:\n",
    "        df[col] = df[col]/df['total']\n",
    "    return df"
   ]
  },
  {
   "cell_type": "markdown",
   "metadata": {},
   "source": [
    "## 공유 자전거 데이터 정제"
   ]
  },
  {
   "cell_type": "code",
   "execution_count": 65,
   "metadata": {},
   "outputs": [
    {
     "data": {
      "text/html": [
       "<div>\n",
       "<style scoped>\n",
       "    .dataframe tbody tr th:only-of-type {\n",
       "        vertical-align: middle;\n",
       "    }\n",
       "\n",
       "    .dataframe tbody tr th {\n",
       "        vertical-align: top;\n",
       "    }\n",
       "\n",
       "    .dataframe thead th {\n",
       "        text-align: right;\n",
       "    }\n",
       "</style>\n",
       "<table border=\"1\" class=\"dataframe\">\n",
       "  <thead>\n",
       "    <tr style=\"text-align: right;\">\n",
       "      <th></th>\n",
       "      <th>기준_날짜</th>\n",
       "      <th>기준_집계</th>\n",
       "      <th>기준_시간대</th>\n",
       "      <th>시작_대여소_ID</th>\n",
       "      <th>시작_대여소명</th>\n",
       "      <th>종료_대여소_ID</th>\n",
       "      <th>종료_대여소명</th>\n",
       "      <th>전체_건수</th>\n",
       "      <th>전체_이용_분</th>\n",
       "      <th>전체_이용_거리</th>\n",
       "    </tr>\n",
       "  </thead>\n",
       "  <tbody>\n",
       "    <tr>\n",
       "      <th>0</th>\n",
       "      <td>20220101</td>\n",
       "      <td>0</td>\n",
       "      <td>0</td>\n",
       "      <td>ST-2280</td>\n",
       "      <td>이문1동_052_1</td>\n",
       "      <td>ST-401</td>\n",
       "      <td>이문1동_056_1</td>\n",
       "      <td>1</td>\n",
       "      <td>2</td>\n",
       "      <td>410.00</td>\n",
       "    </tr>\n",
       "    <tr>\n",
       "      <th>1</th>\n",
       "      <td>20220101</td>\n",
       "      <td>0</td>\n",
       "      <td>0</td>\n",
       "      <td>ST-2738</td>\n",
       "      <td>둔촌2동_002_1</td>\n",
       "      <td>ST-1720</td>\n",
       "      <td>오륜동_001_5</td>\n",
       "      <td>1</td>\n",
       "      <td>16</td>\n",
       "      <td>0.00</td>\n",
       "    </tr>\n",
       "    <tr>\n",
       "      <th>2</th>\n",
       "      <td>20220101</td>\n",
       "      <td>0</td>\n",
       "      <td>0</td>\n",
       "      <td>ST-99</td>\n",
       "      <td>자양3동_050_1</td>\n",
       "      <td>ST-99</td>\n",
       "      <td>자양3동_050_1</td>\n",
       "      <td>1</td>\n",
       "      <td>67</td>\n",
       "      <td>0.00</td>\n",
       "    </tr>\n",
       "    <tr>\n",
       "      <th>3</th>\n",
       "      <td>20220101</td>\n",
       "      <td>0</td>\n",
       "      <td>0</td>\n",
       "      <td>ST-262</td>\n",
       "      <td>장안2동_053_1</td>\n",
       "      <td>ST-242</td>\n",
       "      <td>용답동_004_2</td>\n",
       "      <td>1</td>\n",
       "      <td>8</td>\n",
       "      <td>1714.24</td>\n",
       "    </tr>\n",
       "    <tr>\n",
       "      <th>4</th>\n",
       "      <td>20220101</td>\n",
       "      <td>0</td>\n",
       "      <td>0</td>\n",
       "      <td>ST-1812</td>\n",
       "      <td>창신1동_008_1</td>\n",
       "      <td>ST-1812</td>\n",
       "      <td>창신1동_008_1</td>\n",
       "      <td>1</td>\n",
       "      <td>99</td>\n",
       "      <td>4560.14</td>\n",
       "    </tr>\n",
       "    <tr>\n",
       "      <th>...</th>\n",
       "      <td>...</td>\n",
       "      <td>...</td>\n",
       "      <td>...</td>\n",
       "      <td>...</td>\n",
       "      <td>...</td>\n",
       "      <td>...</td>\n",
       "      <td>...</td>\n",
       "      <td>...</td>\n",
       "      <td>...</td>\n",
       "      <td>...</td>\n",
       "    </tr>\n",
       "    <tr>\n",
       "      <th>58635461</th>\n",
       "      <td>20220930</td>\n",
       "      <td>1</td>\n",
       "      <td>2355</td>\n",
       "      <td>ST-285</td>\n",
       "      <td>문래동_057_1</td>\n",
       "      <td>ST-1968</td>\n",
       "      <td>영등포동_006_1</td>\n",
       "      <td>1</td>\n",
       "      <td>21</td>\n",
       "      <td>2040.00</td>\n",
       "    </tr>\n",
       "    <tr>\n",
       "      <th>58635462</th>\n",
       "      <td>20220930</td>\n",
       "      <td>1</td>\n",
       "      <td>2355</td>\n",
       "      <td>ST-819</td>\n",
       "      <td>도곡2동_004_1</td>\n",
       "      <td>ST-810</td>\n",
       "      <td>역삼1동_053_2</td>\n",
       "      <td>1</td>\n",
       "      <td>14</td>\n",
       "      <td>1463.74</td>\n",
       "    </tr>\n",
       "    <tr>\n",
       "      <th>58635463</th>\n",
       "      <td>20220930</td>\n",
       "      <td>1</td>\n",
       "      <td>2355</td>\n",
       "      <td>ST-50</td>\n",
       "      <td>여의동_034_1</td>\n",
       "      <td>ST-72</td>\n",
       "      <td>여의동_005_14</td>\n",
       "      <td>1</td>\n",
       "      <td>12</td>\n",
       "      <td>1594.27</td>\n",
       "    </tr>\n",
       "    <tr>\n",
       "      <th>58635464</th>\n",
       "      <td>20220930</td>\n",
       "      <td>1</td>\n",
       "      <td>2355</td>\n",
       "      <td>ST-637</td>\n",
       "      <td>독산1동_018_1</td>\n",
       "      <td>ST-2892</td>\n",
       "      <td>구로5동_053_1</td>\n",
       "      <td>1</td>\n",
       "      <td>28</td>\n",
       "      <td>4361.01</td>\n",
       "    </tr>\n",
       "    <tr>\n",
       "      <th>58635465</th>\n",
       "      <td>20220930</td>\n",
       "      <td>1</td>\n",
       "      <td>2355</td>\n",
       "      <td>ST-1451</td>\n",
       "      <td>망우본동_064_1</td>\n",
       "      <td>ST-561</td>\n",
       "      <td>망우본동_030_1</td>\n",
       "      <td>1</td>\n",
       "      <td>5</td>\n",
       "      <td>989.36</td>\n",
       "    </tr>\n",
       "  </tbody>\n",
       "</table>\n",
       "<p>58635466 rows × 10 columns</p>\n",
       "</div>"
      ],
      "text/plain": [
       "             기준_날짜  기준_집계  기준_시간대 시작_대여소_ID     시작_대여소명 종료_대여소_ID     종료_대여소명  \\\n",
       "0         20220101      0       0   ST-2280  이문1동_052_1    ST-401  이문1동_056_1   \n",
       "1         20220101      0       0   ST-2738  둔촌2동_002_1   ST-1720   오륜동_001_5   \n",
       "2         20220101      0       0     ST-99  자양3동_050_1     ST-99  자양3동_050_1   \n",
       "3         20220101      0       0    ST-262  장안2동_053_1    ST-242   용답동_004_2   \n",
       "4         20220101      0       0   ST-1812  창신1동_008_1   ST-1812  창신1동_008_1   \n",
       "...            ...    ...     ...       ...         ...       ...         ...   \n",
       "58635461  20220930      1    2355    ST-285   문래동_057_1   ST-1968  영등포동_006_1   \n",
       "58635462  20220930      1    2355    ST-819  도곡2동_004_1    ST-810  역삼1동_053_2   \n",
       "58635463  20220930      1    2355     ST-50   여의동_034_1     ST-72  여의동_005_14   \n",
       "58635464  20220930      1    2355    ST-637  독산1동_018_1   ST-2892  구로5동_053_1   \n",
       "58635465  20220930      1    2355   ST-1451  망우본동_064_1    ST-561  망우본동_030_1   \n",
       "\n",
       "          전체_건수  전체_이용_분  전체_이용_거리  \n",
       "0             1        2    410.00  \n",
       "1             1       16      0.00  \n",
       "2             1       67      0.00  \n",
       "3             1        8   1714.24  \n",
       "4             1       99   4560.14  \n",
       "...         ...      ...       ...  \n",
       "58635461      1       21   2040.00  \n",
       "58635462      1       14   1463.74  \n",
       "58635463      1       12   1594.27  \n",
       "58635464      1       28   4361.01  \n",
       "58635465      1        5    989.36  \n",
       "\n",
       "[58635466 rows x 10 columns]"
      ]
     },
     "execution_count": 65,
     "metadata": {},
     "output_type": "execute_result"
    }
   ],
   "source": [
    "bicycle_df = pd.read_csv(CONST_PATH_BICYCLE,header=None,encoding=CONST_STR_ENCODING, names=['기준_날짜', '기준_집계', '기준_시간대', '시작_대여소_ID', '시작_대여소명', '종료_대여소_ID', '종료_대여소명', '전체_건수', '전체_이용_분', '전체_이용_거리'])\n",
    "bicycle_df"
   ]
  },
  {
   "cell_type": "code",
   "execution_count": 67,
   "metadata": {},
   "outputs": [
    {
     "data": {
      "text/html": [
       "<div>\n",
       "<style scoped>\n",
       "    .dataframe tbody tr th:only-of-type {\n",
       "        vertical-align: middle;\n",
       "    }\n",
       "\n",
       "    .dataframe tbody tr th {\n",
       "        vertical-align: top;\n",
       "    }\n",
       "\n",
       "    .dataframe thead th {\n",
       "        text-align: right;\n",
       "    }\n",
       "</style>\n",
       "<table border=\"1\" class=\"dataframe\">\n",
       "  <thead>\n",
       "    <tr style=\"text-align: right;\">\n",
       "      <th></th>\n",
       "      <th>기준_날짜</th>\n",
       "      <th>기준_집계</th>\n",
       "      <th>기준_시간대</th>\n",
       "      <th>시작_대여소_ID</th>\n",
       "      <th>시작_대여소명</th>\n",
       "      <th>종료_대여소_ID</th>\n",
       "      <th>종료_대여소명</th>\n",
       "      <th>전체_건수</th>\n",
       "      <th>전체_이용_분</th>\n",
       "      <th>전체_이용_거리</th>\n",
       "    </tr>\n",
       "  </thead>\n",
       "  <tbody>\n",
       "    <tr>\n",
       "      <th>0</th>\n",
       "      <td>20220101</td>\n",
       "      <td>0</td>\n",
       "      <td>0</td>\n",
       "      <td>ST-2280</td>\n",
       "      <td>이문1동_052_1</td>\n",
       "      <td>ST-401</td>\n",
       "      <td>이문1동_056_1</td>\n",
       "      <td>1</td>\n",
       "      <td>2</td>\n",
       "      <td>410.00</td>\n",
       "    </tr>\n",
       "    <tr>\n",
       "      <th>1</th>\n",
       "      <td>20220101</td>\n",
       "      <td>0</td>\n",
       "      <td>0</td>\n",
       "      <td>ST-2738</td>\n",
       "      <td>둔촌2동_002_1</td>\n",
       "      <td>ST-1720</td>\n",
       "      <td>오륜동_001_5</td>\n",
       "      <td>1</td>\n",
       "      <td>16</td>\n",
       "      <td>0.00</td>\n",
       "    </tr>\n",
       "    <tr>\n",
       "      <th>2</th>\n",
       "      <td>20220101</td>\n",
       "      <td>0</td>\n",
       "      <td>0</td>\n",
       "      <td>ST-99</td>\n",
       "      <td>자양3동_050_1</td>\n",
       "      <td>ST-99</td>\n",
       "      <td>자양3동_050_1</td>\n",
       "      <td>1</td>\n",
       "      <td>67</td>\n",
       "      <td>0.00</td>\n",
       "    </tr>\n",
       "    <tr>\n",
       "      <th>3</th>\n",
       "      <td>20220101</td>\n",
       "      <td>0</td>\n",
       "      <td>0</td>\n",
       "      <td>ST-262</td>\n",
       "      <td>장안2동_053_1</td>\n",
       "      <td>ST-242</td>\n",
       "      <td>용답동_004_2</td>\n",
       "      <td>1</td>\n",
       "      <td>8</td>\n",
       "      <td>1714.24</td>\n",
       "    </tr>\n",
       "    <tr>\n",
       "      <th>4</th>\n",
       "      <td>20220101</td>\n",
       "      <td>0</td>\n",
       "      <td>0</td>\n",
       "      <td>ST-1812</td>\n",
       "      <td>창신1동_008_1</td>\n",
       "      <td>ST-1812</td>\n",
       "      <td>창신1동_008_1</td>\n",
       "      <td>1</td>\n",
       "      <td>99</td>\n",
       "      <td>4560.14</td>\n",
       "    </tr>\n",
       "  </tbody>\n",
       "</table>\n",
       "</div>"
      ],
      "text/plain": [
       "      기준_날짜  기준_집계  기준_시간대 시작_대여소_ID     시작_대여소명 종료_대여소_ID     종료_대여소명  전체_건수  \\\n",
       "0  20220101      0       0   ST-2280  이문1동_052_1    ST-401  이문1동_056_1      1   \n",
       "1  20220101      0       0   ST-2738  둔촌2동_002_1   ST-1720   오륜동_001_5      1   \n",
       "2  20220101      0       0     ST-99  자양3동_050_1     ST-99  자양3동_050_1      1   \n",
       "3  20220101      0       0    ST-262  장안2동_053_1    ST-242   용답동_004_2      1   \n",
       "4  20220101      0       0   ST-1812  창신1동_008_1   ST-1812  창신1동_008_1      1   \n",
       "\n",
       "   전체_이용_분  전체_이용_거리  \n",
       "0        2    410.00  \n",
       "1       16      0.00  \n",
       "2       67      0.00  \n",
       "3        8   1714.24  \n",
       "4       99   4560.14  "
      ]
     },
     "execution_count": 67,
     "metadata": {},
     "output_type": "execute_result"
    }
   ],
   "source": [
    "bicycle_df.head()"
   ]
  },
  {
   "cell_type": "markdown",
   "metadata": {},
   "source": [
    "### 중복 검사"
   ]
  },
  {
   "cell_type": "code",
   "execution_count": 10,
   "metadata": {},
   "outputs": [
    {
     "data": {
      "text/plain": [
       "0"
      ]
     },
     "execution_count": 10,
     "metadata": {},
     "output_type": "execute_result"
    }
   ],
   "source": [
    "bicycle_df.duplicated().sum()"
   ]
  },
  {
   "cell_type": "markdown",
   "metadata": {},
   "source": [
    "### 각 변수별 수량 확인"
   ]
  },
  {
   "cell_type": "markdown",
   "metadata": {},
   "source": [
    "변수 리스트\n",
    "* ['기준_날짜'](#기준_날짜)\n",
    "* ['기준_집계'](#기준_집계)\n",
    "* ['기준_시간대'](#기준_시간대)\n",
    "* ['시작_대여소_ID']\n",
    "* ['시작_대여소명']\n",
    "* ['종료_대여소_ID']\n",
    "* ['종료_대여소명']\n",
    "* ['전체_건수']\n",
    "* ['전체_이용_분']\n",
    "* ['전체_이용_거리']"
   ]
  },
  {
   "cell_type": "markdown",
   "metadata": {},
   "source": [
    "#### 기준_날짜  \n",
    ": 집계가 된 시점의 기준일 (YYYYMMDD)"
   ]
  },
  {
   "cell_type": "code",
   "execution_count": 41,
   "metadata": {},
   "outputs": [
    {
     "name": "stdout",
     "output_type": "stream",
     "text": [
      "데이터상 집계된 기준 기간: 20220101 ~ 20220930\n",
      "데이터상 집계된 기준 일 수: 273\n",
      "실제 일 수: 273 days, 0:00:00\n"
     ]
    }
   ],
   "source": [
    "# 기준 날짜 계산\n",
    "print(\"데이터상 집계된 기준 기간:\", bicycle_df['기준_날짜'].min(), \"~\", bicycle_df['기준_날짜'].max())\n",
    "print(\"데이터상 집계된 기준 일 수:\",len(bicycle_df['기준_날짜'].unique()))\n",
    "print(\"실제 일 수:\", (datetime.datetime(2022, 10, 1)- datetime.datetime(2022, 1, 1)))"
   ]
  },
  {
   "cell_type": "code",
   "execution_count": 64,
   "metadata": {},
   "outputs": [],
   "source": [
    "date_group = bicycle_df[['전체_건수', '기준_날짜']].groupby(\"기준_날짜\").count().reset_index(drop=False)"
   ]
  },
  {
   "cell_type": "code",
   "execution_count": 65,
   "metadata": {},
   "outputs": [
    {
     "data": {
      "text/html": [
       "<div>\n",
       "<style scoped>\n",
       "    .dataframe tbody tr th:only-of-type {\n",
       "        vertical-align: middle;\n",
       "    }\n",
       "\n",
       "    .dataframe tbody tr th {\n",
       "        vertical-align: top;\n",
       "    }\n",
       "\n",
       "    .dataframe thead th {\n",
       "        text-align: right;\n",
       "    }\n",
       "</style>\n",
       "<table border=\"1\" class=\"dataframe\">\n",
       "  <thead>\n",
       "    <tr style=\"text-align: right;\">\n",
       "      <th></th>\n",
       "      <th>기준_날짜</th>\n",
       "      <th>전체_건수</th>\n",
       "    </tr>\n",
       "  </thead>\n",
       "  <tbody>\n",
       "    <tr>\n",
       "      <th>count</th>\n",
       "      <td>2.730000e+02</td>\n",
       "      <td>273.000000</td>\n",
       "    </tr>\n",
       "    <tr>\n",
       "      <th>mean</th>\n",
       "      <td>2.022052e+07</td>\n",
       "      <td>214781.926740</td>\n",
       "    </tr>\n",
       "    <tr>\n",
       "      <th>std</th>\n",
       "      <td>2.585567e+02</td>\n",
       "      <td>97583.676301</td>\n",
       "    </tr>\n",
       "    <tr>\n",
       "      <th>min</th>\n",
       "      <td>2.022010e+07</td>\n",
       "      <td>1021.000000</td>\n",
       "    </tr>\n",
       "    <tr>\n",
       "      <th>25%</th>\n",
       "      <td>2.022031e+07</td>\n",
       "      <td>118715.000000</td>\n",
       "    </tr>\n",
       "    <tr>\n",
       "      <th>50%</th>\n",
       "      <td>2.022052e+07</td>\n",
       "      <td>227636.000000</td>\n",
       "    </tr>\n",
       "    <tr>\n",
       "      <th>75%</th>\n",
       "      <td>2.022072e+07</td>\n",
       "      <td>295130.000000</td>\n",
       "    </tr>\n",
       "    <tr>\n",
       "      <th>max</th>\n",
       "      <td>2.022093e+07</td>\n",
       "      <td>368897.000000</td>\n",
       "    </tr>\n",
       "  </tbody>\n",
       "</table>\n",
       "</div>"
      ],
      "text/plain": [
       "              기준_날짜          전체_건수\n",
       "count  2.730000e+02     273.000000\n",
       "mean   2.022052e+07  214781.926740\n",
       "std    2.585567e+02   97583.676301\n",
       "min    2.022010e+07    1021.000000\n",
       "25%    2.022031e+07  118715.000000\n",
       "50%    2.022052e+07  227636.000000\n",
       "75%    2.022072e+07  295130.000000\n",
       "max    2.022093e+07  368897.000000"
      ]
     },
     "execution_count": 65,
     "metadata": {},
     "output_type": "execute_result"
    }
   ],
   "source": [
    "date_group.describe()"
   ]
  },
  {
   "cell_type": "code",
   "execution_count": 66,
   "metadata": {},
   "outputs": [
    {
     "data": {
      "text/plain": [
       "Text(0.5, 1.0, '기준 날짜별 데이터 수량')"
      ]
     },
     "execution_count": 66,
     "metadata": {},
     "output_type": "execute_result"
    },
    {
     "data": {
      "image/png": "[encoded data removed]",
      "text/plain": [
       "<Figure size 432x288 with 1 Axes>"
      ]
     },
     "metadata": {
      "needs_background": "light"
     },
     "output_type": "display_data"
    }
   ],
   "source": [
    "plt.boxplot(date_group['전체_건수'], labels=['기준_날짜'])\n",
    "plt.ylabel(\"데이터 수량 (건)\")\n",
    "plt.title(\"기준 날짜별 데이터 수량\")\n"
   ]
  },
  {
   "cell_type": "code",
   "execution_count": 69,
   "metadata": {},
   "outputs": [],
   "source": [
    "date_group['기준_날짜'] = pd.to_datetime(date_group['기준_날짜'], format=\"%Y%m%d\")"
   ]
  },
  {
   "cell_type": "code",
   "execution_count": 70,
   "metadata": {},
   "outputs": [
    {
     "data": {
      "text/html": [
       "<div>\n",
       "<style scoped>\n",
       "    .dataframe tbody tr th:only-of-type {\n",
       "        vertical-align: middle;\n",
       "    }\n",
       "\n",
       "    .dataframe tbody tr th {\n",
       "        vertical-align: top;\n",
       "    }\n",
       "\n",
       "    .dataframe thead th {\n",
       "        text-align: right;\n",
       "    }\n",
       "</style>\n",
       "<table border=\"1\" class=\"dataframe\">\n",
       "  <thead>\n",
       "    <tr style=\"text-align: right;\">\n",
       "      <th></th>\n",
       "      <th>기준_날짜</th>\n",
       "      <th>전체_건수</th>\n",
       "    </tr>\n",
       "  </thead>\n",
       "  <tbody>\n",
       "    <tr>\n",
       "      <th>0</th>\n",
       "      <td>2022-01-01</td>\n",
       "      <td>55885</td>\n",
       "    </tr>\n",
       "    <tr>\n",
       "      <th>1</th>\n",
       "      <td>2022-01-02</td>\n",
       "      <td>56166</td>\n",
       "    </tr>\n",
       "    <tr>\n",
       "      <th>2</th>\n",
       "      <td>2022-01-03</td>\n",
       "      <td>106606</td>\n",
       "    </tr>\n",
       "    <tr>\n",
       "      <th>3</th>\n",
       "      <td>2022-01-04</td>\n",
       "      <td>111963</td>\n",
       "    </tr>\n",
       "    <tr>\n",
       "      <th>4</th>\n",
       "      <td>2022-01-05</td>\n",
       "      <td>114184</td>\n",
       "    </tr>\n",
       "    <tr>\n",
       "      <th>...</th>\n",
       "      <td>...</td>\n",
       "      <td>...</td>\n",
       "    </tr>\n",
       "    <tr>\n",
       "      <th>268</th>\n",
       "      <td>2022-09-26</td>\n",
       "      <td>360993</td>\n",
       "    </tr>\n",
       "    <tr>\n",
       "      <th>269</th>\n",
       "      <td>2022-09-27</td>\n",
       "      <td>367001</td>\n",
       "    </tr>\n",
       "    <tr>\n",
       "      <th>270</th>\n",
       "      <td>2022-09-28</td>\n",
       "      <td>368759</td>\n",
       "    </tr>\n",
       "    <tr>\n",
       "      <th>271</th>\n",
       "      <td>2022-09-29</td>\n",
       "      <td>358954</td>\n",
       "    </tr>\n",
       "    <tr>\n",
       "      <th>272</th>\n",
       "      <td>2022-09-30</td>\n",
       "      <td>367597</td>\n",
       "    </tr>\n",
       "  </tbody>\n",
       "</table>\n",
       "<p>273 rows × 2 columns</p>\n",
       "</div>"
      ],
      "text/plain": [
       "         기준_날짜   전체_건수\n",
       "0   2022-01-01   55885\n",
       "1   2022-01-02   56166\n",
       "2   2022-01-03  106606\n",
       "3   2022-01-04  111963\n",
       "4   2022-01-05  114184\n",
       "..         ...     ...\n",
       "268 2022-09-26  360993\n",
       "269 2022-09-27  367001\n",
       "270 2022-09-28  368759\n",
       "271 2022-09-29  358954\n",
       "272 2022-09-30  367597\n",
       "\n",
       "[273 rows x 2 columns]"
      ]
     },
     "execution_count": 70,
     "metadata": {},
     "output_type": "execute_result"
    }
   ],
   "source": [
    "date_group"
   ]
  },
  {
   "cell_type": "code",
   "execution_count": 72,
   "metadata": {},
   "outputs": [
    {
     "data": {
      "text/plain": [
       "Text(0.5, 1.0, '기준일 내 존재하는 데이터 수량')"
      ]
     },
     "execution_count": 72,
     "metadata": {},
     "output_type": "execute_result"
    },
    {
     "data": {
      "image/png": "[encoded data removed]",
      "text/plain": [
       "<Figure size 432x288 with 1 Axes>"
      ]
     },
     "metadata": {
      "needs_background": "light"
     },
     "output_type": "display_data"
    }
   ],
   "source": [
    "plt.plot(date_group['기준_날짜'], date_group['전체_건수'])\n",
    "plt.xlabel(\"기준일\")\n",
    "plt.ylabel(\"데이터 수량\")\n",
    "plt.title(\"기준일 내 존재하는 데이터 수량\")"
   ]
  },
  {
   "cell_type": "markdown",
   "metadata": {},
   "source": [
    "* 위 그래프의 경우 기준일에 집계된 데이터의 수량으로 00:00 ~ 23:55 까지 5분 간격으로 각 정류소에서 대여 혹은 반납으로 집계된 데이터의 수량임.\n",
    "* 대여 혹은 반납된 자전거의 수가 아님을 유의할 것\n",
    "* 대여 혹은 반납이 발생되지 않은 경우(\"전체_건수\" = 0)의 데이터는 집계되지 않았음을 확인할 수 있다."
   ]
  },
  {
   "cell_type": "markdown",
   "metadata": {},
   "source": [
    "#### 기준_집계: \n",
    "* 0: 시작 기준 집계\n",
    "* 1: 종료 기준 집계"
   ]
  },
  {
   "cell_type": "code",
   "execution_count": 11,
   "metadata": {},
   "outputs": [
    {
     "data": {
      "text/plain": [
       "0    29410905\n",
       "1    29224561\n",
       "Name: 기준_집계, dtype: int64"
      ]
     },
     "execution_count": 11,
     "metadata": {},
     "output_type": "execute_result"
    }
   ],
   "source": [
    "bicycle_df['기준_집계'].value_counts()"
   ]
  },
  {
   "cell_type": "code",
   "execution_count": 42,
   "metadata": {},
   "outputs": [
    {
     "name": "stdout",
     "output_type": "stream",
     "text": [
      "시작 기준(0)이 종료 기준(1)보다 데이터가 186344 개 많다.\n"
     ]
    }
   ],
   "source": [
    "print(f\"시작 기준(0)이 종료 기준(1)보다 데이터가 {29410905-29224561} 개 많다.\")"
   ]
  },
  {
   "cell_type": "code",
   "execution_count": 17,
   "metadata": {},
   "outputs": [
    {
     "name": "stderr",
     "output_type": "stream",
     "text": [
      "/var/folders/2_/yvrl7dkd06gb51hlkbvjpb0m0000gn/T/ipykernel_1172/1558230657.py:1: FutureWarning: The default value of numeric_only in DataFrameGroupBy.sum is deprecated. In a future version, numeric_only will default to False. Either specify numeric_only or select only columns which should be valid for the function.\n",
      "  bicycle_df.groupby('기준_집계').sum()\n"
     ]
    },
    {
     "data": {
      "text/html": [
       "<div>\n",
       "<style scoped>\n",
       "    .dataframe tbody tr th:only-of-type {\n",
       "        vertical-align: middle;\n",
       "    }\n",
       "\n",
       "    .dataframe tbody tr th {\n",
       "        vertical-align: top;\n",
       "    }\n",
       "\n",
       "    .dataframe thead th {\n",
       "        text-align: right;\n",
       "    }\n",
       "</style>\n",
       "<table border=\"1\" class=\"dataframe\">\n",
       "  <thead>\n",
       "    <tr style=\"text-align: right;\">\n",
       "      <th></th>\n",
       "      <th>기준_날짜</th>\n",
       "      <th>기준_시간대</th>\n",
       "      <th>전체_건수</th>\n",
       "      <th>전체_이용_분</th>\n",
       "      <th>전체_이용_거리</th>\n",
       "    </tr>\n",
       "    <tr>\n",
       "      <th>기준_집계</th>\n",
       "      <th></th>\n",
       "      <th></th>\n",
       "      <th></th>\n",
       "      <th></th>\n",
       "      <th></th>\n",
       "    </tr>\n",
       "  </thead>\n",
       "  <tbody>\n",
       "    <tr>\n",
       "      <th>0</th>\n",
       "      <td>594705903865452</td>\n",
       "      <td>42482147265</td>\n",
       "      <td>31492614</td>\n",
       "      <td>689670095</td>\n",
       "      <td>8.034886e+10</td>\n",
       "    </tr>\n",
       "    <tr>\n",
       "      <th>1</th>\n",
       "      <td>590937918534748</td>\n",
       "      <td>43214847570</td>\n",
       "      <td>31492614</td>\n",
       "      <td>689670095</td>\n",
       "      <td>8.034886e+10</td>\n",
       "    </tr>\n",
       "  </tbody>\n",
       "</table>\n",
       "</div>"
      ],
      "text/plain": [
       "                 기준_날짜       기준_시간대     전체_건수    전체_이용_분      전체_이용_거리\n",
       "기준_집계                                                                 \n",
       "0      594705903865452  42482147265  31492614  689670095  8.034886e+10\n",
       "1      590937918534748  43214847570  31492614  689670095  8.034886e+10"
      ]
     },
     "execution_count": 17,
     "metadata": {},
     "output_type": "execute_result"
    }
   ],
   "source": [
    "bicycle_df.groupby('기준_집계').sum()"
   ]
  },
  {
   "cell_type": "markdown",
   "metadata": {},
   "source": [
    "시작 기준과 종료 기준 집계 데이터 수량은 차이가 존재하지만, 대여, 반납된 자전거의 수량(전체_건수)은 동일함을 확인할 수 있다.\n",
    "* 대여, 반납 대여소는 각각 동일하지만 대여 및 반납이 다르기 때문에 집계 기준 데이터 수량의 차이가 존재하는 걸로 판단됨."
   ]
  },
  {
   "cell_type": "markdown",
   "metadata": {},
   "source": [
    "#### 기준_시간대\n",
    ": 집계가 이루어진 시간대를 의미, 5분 간격으로 진행"
   ]
  },
  {
   "cell_type": "code",
   "execution_count": 12,
   "metadata": {},
   "outputs": [
    {
     "name": "stdout",
     "output_type": "stream",
     "text": [
      "'기준_시간대'에 누락된 값은 없습니다.\n"
     ]
    }
   ],
   "source": [
    "time_list = list(bicycle_df['기준_시간대'].unique())\n",
    "if len(time_list) == (24*12):\n",
    "    print(\"'기준_시간대'에 누락된 값은 없습니다.\")\n",
    "else:\n",
    "    print(\"'기준_시간대'에 누락된 값이 존재합니다.\")"
   ]
  },
  {
   "cell_type": "markdown",
   "metadata": {},
   "source": [
    "#### 시작_대여소_ID\n",
    ": 자전거를 대여한 대여소 ID"
   ]
  },
  {
   "cell_type": "code",
   "execution_count": 9,
   "metadata": {},
   "outputs": [
    {
     "name": "stdout",
     "output_type": "stream",
     "text": [
      "시작 대여소 수량: 2718\n",
      "시작 대여소별 데이터 수량:\n",
      "      시작_대여소_ID  데이터 수량\n",
      "0      ST-2031  211847\n",
      "1        ST-99  164814\n",
      "2        ST-73  162382\n",
      "3      ST-2905  162200\n",
      "4       ST-891  150089\n",
      "...        ...     ...\n",
      "2713   ST-1750      10\n",
      "2714   ST-2144       8\n",
      "2715   ST-2695       8\n",
      "2716    ST-498       6\n",
      "2717   ST-2963       2\n",
      "\n",
      "[2718 rows x 2 columns]\n"
     ]
    }
   ],
   "source": [
    "start_station_group = pd.DataFrame(bicycle_df['시작_대여소_ID'].value_counts()).reset_index(drop=False)\n",
    "start_station_group.columns = ['시작_대여소_ID', '데이터 수량']\n",
    "print(\"시작 대여소 수량:\", len(bicycle_df['시작_대여소_ID'].unique()))\n",
    "print(\"시작 대여소별 데이터 수량:\\n\", start_station_group)"
   ]
  },
  {
   "cell_type": "code",
   "execution_count": 34,
   "metadata": {},
   "outputs": [
    {
     "name": "stdout",
     "output_type": "stream",
     "text": [
      "Q1: 8875.25\n",
      "Q3: 28883.0\n",
      "IQR: 20007.75\n"
     ]
    }
   ],
   "source": [
    "q1 = start_station_group['데이터 수량'].quantile(0.25)\n",
    "q3 = start_station_group['데이터 수량'].quantile(0.75)\n",
    "iqr = q3 - q1\n",
    "print(f\"Q1: {q1}\\nQ3: {q3}\\nIQR: {iqr}\")"
   ]
  },
  {
   "cell_type": "code",
   "execution_count": 28,
   "metadata": {},
   "outputs": [
    {
     "data": {
      "text/plain": [
       "Text(0.5, 0, '대여소 ID')"
      ]
     },
     "execution_count": 28,
     "metadata": {},
     "output_type": "execute_result"
    },
    {
     "data": {
      "image/png": "[encoded data removed]",
      "text/plain": [
       "<Figure size 640x480 with 2 Axes>"
      ]
     },
     "metadata": {},
     "output_type": "display_data"
    }
   ],
   "source": [
    "plt.subplot(131)\n",
    "plt.boxplot(start_station_group['데이터 수량'])\n",
    "plt.title(\"대여소별 데이터 수량 boxplot\")\n",
    "plt.ylabel(\"데이터 수량 (건)\")\n",
    "plt.vlines(q3+1.5*iqr, label=f\"{}\")\n",
    "\n",
    "plt.subplot(133)\n",
    "plt.plot(start_station_group['데이터 수량'])\n",
    "plt.title(\"대여소별 데이터 수량 분포도\")\n",
    "plt.ylabel(\"데이터 수량 (건)\")\n",
    "plt.xlabel(\"대여소 ID\")"
   ]
  },
  {
   "cell_type": "markdown",
   "metadata": {},
   "source": [
    "대부분 대여소에서 발생한 데이터의 수량이 50000건을 넘지 않는다."
   ]
  },
  {
   "cell_type": "code",
   "execution_count": 30,
   "metadata": {},
   "outputs": [
    {
     "data": {
      "text/plain": [
       "Text(0.5, 0, '데이터 수량')"
      ]
     },
     "execution_count": 30,
     "metadata": {},
     "output_type": "execute_result"
    },
    {
     "data": {
      "image/png": "[encoded data removed]",
      "text/plain": [
       "<Figure size 640x480 with 1 Axes>"
      ]
     },
     "metadata": {},
     "output_type": "display_data"
    }
   ],
   "source": [
    "plt.hist(start_station_group['데이터 수량'])\n",
    "plt.title(\"데이터 수량에 따른 대여소 분포도\")\n",
    "plt.ylabel(\"대여소 수\")\n",
    "plt.xlabel(\"데이터 수량\")"
   ]
  },
  {
   "cell_type": "markdown",
   "metadata": {},
   "source": [
    "대여소별 발생한 데이터 수량을 분포도로 확인해본 결과 약 2400곳의 대여소가 50000 건 이하의 데이터를 가지고 있다."
   ]
  },
  {
   "cell_type": "code",
   "execution_count": 41,
   "metadata": {},
   "outputs": [
    {
     "name": "stdout",
     "output_type": "stream",
     "text": [
      "2718 2718 2719 2719\n"
     ]
    }
   ],
   "source": [
    "print(len(bicycle_df['시작_대여소_ID'].unique()), len(bicycle_df['시작_대여소명'].unique()), len(bicycle_df['종료_대여소_ID'].unique()), len(bicycle_df['종료_대여소명'].unique()))"
   ]
  },
  {
   "cell_type": "code",
   "execution_count": 42,
   "metadata": {},
   "outputs": [
    {
     "data": {
      "text/plain": [
       "{'ST-2140'}"
      ]
     },
     "execution_count": 42,
     "metadata": {},
     "output_type": "execute_result"
    }
   ],
   "source": [
    "a = set(bicycle_df['시작_대여소_ID'].unique())\n",
    "b = set(bicycle_df['종료_대여소_ID'].unique())\n",
    "b-a"
   ]
  },
  {
   "cell_type": "code",
   "execution_count": 38,
   "metadata": {},
   "outputs": [
    {
     "data": {
      "text/html": [
       "<div>\n",
       "<style scoped>\n",
       "    .dataframe tbody tr th:only-of-type {\n",
       "        vertical-align: middle;\n",
       "    }\n",
       "\n",
       "    .dataframe tbody tr th {\n",
       "        vertical-align: top;\n",
       "    }\n",
       "\n",
       "    .dataframe thead th {\n",
       "        text-align: right;\n",
       "    }\n",
       "</style>\n",
       "<table border=\"1\" class=\"dataframe\">\n",
       "  <thead>\n",
       "    <tr style=\"text-align: right;\">\n",
       "      <th></th>\n",
       "      <th>기준_날짜</th>\n",
       "      <th>기준_집계</th>\n",
       "      <th>기준_시간대</th>\n",
       "      <th>시작_대여소_ID</th>\n",
       "      <th>시작_대여소명</th>\n",
       "      <th>종료_대여소_ID</th>\n",
       "      <th>종료_대여소명</th>\n",
       "      <th>전체_건수</th>\n",
       "      <th>전체_이용_분</th>\n",
       "      <th>전체_이용_거리</th>\n",
       "      <th>hour</th>\n",
       "      <th>minute</th>\n",
       "    </tr>\n",
       "  </thead>\n",
       "  <tbody>\n",
       "    <tr>\n",
       "      <th>4953078</th>\n",
       "      <td>20220224</td>\n",
       "      <td>0</td>\n",
       "      <td>1245</td>\n",
       "      <td>ST-1461</td>\n",
       "      <td>도봉1동_024_1</td>\n",
       "      <td>ST-2140</td>\n",
       "      <td>도봉1동_003_4</td>\n",
       "      <td>1</td>\n",
       "      <td>4</td>\n",
       "      <td>590.0</td>\n",
       "      <td>12</td>\n",
       "      <td>45</td>\n",
       "    </tr>\n",
       "    <tr>\n",
       "      <th>4953523</th>\n",
       "      <td>20220224</td>\n",
       "      <td>1</td>\n",
       "      <td>1250</td>\n",
       "      <td>ST-1461</td>\n",
       "      <td>도봉1동_024_1</td>\n",
       "      <td>ST-2140</td>\n",
       "      <td>도봉1동_003_4</td>\n",
       "      <td>1</td>\n",
       "      <td>4</td>\n",
       "      <td>590.0</td>\n",
       "      <td>12</td>\n",
       "      <td>50</td>\n",
       "    </tr>\n",
       "  </tbody>\n",
       "</table>\n",
       "</div>"
      ],
      "text/plain": [
       "            기준_날짜  기준_집계  기준_시간대 시작_대여소_ID     시작_대여소명 종료_대여소_ID     종료_대여소명  \\\n",
       "4953078  20220224      0    1245   ST-1461  도봉1동_024_1   ST-2140  도봉1동_003_4   \n",
       "4953523  20220224      1    1250   ST-1461  도봉1동_024_1   ST-2140  도봉1동_003_4   \n",
       "\n",
       "         전체_건수  전체_이용_분  전체_이용_거리  hour  minute  \n",
       "4953078      1        4     590.0    12      45  \n",
       "4953523      1        4     590.0    12      50  "
      ]
     },
     "execution_count": 38,
     "metadata": {},
     "output_type": "execute_result"
    }
   ],
   "source": [
    "bicycle_df[bicycle_df['종료_대여소_ID']=='ST-2140']"
   ]
  },
  {
   "cell_type": "markdown",
   "metadata": {},
   "source": [
    "2022년 2월 24일에 ST-2140(도봉1동 003 4)의 대여소가 도착 대여소에 하나 더 존재함.\n",
    "* 전체 데이터의 누락 여부를 확인해봐야할 듯\n"
   ]
  },
  {
   "cell_type": "markdown",
   "metadata": {},
   "source": [
    "### 대여소 데이터 분석 결과"
   ]
  },
  {
   "cell_type": "markdown",
   "metadata": {},
   "source": [
    "현재 수집한 공유 자전거의 데이터의 경우, 24시간 동안 5분 단위로 집계된 \"대여\" 혹은 \"반납\"된 자전거의 수를 나타내고 있다.\n",
    "* 이에 시간대별로 대여 혹은 반납된 자전거 수를 계산하고\n",
    "* 발생하지 않은 시간대의 데이터는 0으로 추가 생성하고자 함."
   ]
  },
  {
   "cell_type": "markdown",
   "metadata": {},
   "source": [
    "#### 대여소 데이터 시간대별로 결합"
   ]
  },
  {
   "cell_type": "code",
   "execution_count": 25,
   "metadata": {},
   "outputs": [],
   "source": [
    "bicycle_df['hour'] = bicycle_df['기준_시간대']//100\n",
    "bicycle_df['minute'] = bicycle_df['기준_시간대']%100"
   ]
  },
  {
   "cell_type": "code",
   "execution_count": 29,
   "metadata": {},
   "outputs": [],
   "source": [
    "new_bicycle_df = bicycle_df.groupby(['기준_날짜', '기준_집계', 'hour', '시작_대여소_ID', '시작_대여소명', '종료_대여소_ID', '종료_대여소명']).sum().reset_index(drop=False)\n",
    "new_bicycle_df = new_bicycle_df[['기준_날짜', '기준_집계', 'hour', '시작_대여소_ID', '시작_대여소명', '종료_대여소_ID', '종료_대여소명', '전체_건수', '전체_이용_분', '전체_이용_거리']]"
   ]
  },
  {
   "cell_type": "markdown",
   "metadata": {},
   "source": [
    "#### 대여, 반납 데이터 분리"
   ]
  },
  {
   "cell_type": "code",
   "execution_count": 97,
   "metadata": {},
   "outputs": [
    {
     "name": "stdout",
     "output_type": "stream",
     "text": [
      "success to devide dataframe\n"
     ]
    }
   ],
   "source": [
    "# 대여 데이터\n",
    "rental_df = new_bicycle_df[new_bicycle_df['기준_집계']==0].reset_index(drop=True)\n",
    "# 반납 데이터\n",
    "return_df = new_bicycle_df[new_bicycle_df['기준_집계']==1].reset_index(drop=True)\n",
    "if len(rental_df) + len(return_df) == len(new_bicycle_df):\n",
    "    print(\"success to devide dataframe\")"
   ]
  },
  {
   "cell_type": "markdown",
   "metadata": {},
   "source": [
    "### 대여 기준 (시작_대여소 기준)"
   ]
  },
  {
   "cell_type": "code",
   "execution_count": 98,
   "metadata": {},
   "outputs": [
    {
     "name": "stderr",
     "output_type": "stream",
     "text": [
      "/var/folders/2_/yvrl7dkd06gb51hlkbvjpb0m0000gn/T/ipykernel_1172/2803224190.py:2: FutureWarning: The default value of numeric_only in DataFrameGroupBy.sum is deprecated. In a future version, numeric_only will default to False. Either specify numeric_only or select only columns which should be valid for the function.\n",
      "  rental_df = rental_df.groupby(['기준_날짜', '기준_집계', 'hour', '시작_대여소_ID', '시작_대여소명']).sum().reset_index(drop=False)\n"
     ]
    },
    {
     "data": {
      "text/html": [
       "<div>\n",
       "<style scoped>\n",
       "    .dataframe tbody tr th:only-of-type {\n",
       "        vertical-align: middle;\n",
       "    }\n",
       "\n",
       "    .dataframe tbody tr th {\n",
       "        vertical-align: top;\n",
       "    }\n",
       "\n",
       "    .dataframe thead th {\n",
       "        text-align: right;\n",
       "    }\n",
       "</style>\n",
       "<table border=\"1\" class=\"dataframe\">\n",
       "  <thead>\n",
       "    <tr style=\"text-align: right;\">\n",
       "      <th></th>\n",
       "      <th>기준_날짜</th>\n",
       "      <th>기준_집계</th>\n",
       "      <th>hour</th>\n",
       "      <th>시작_대여소_ID</th>\n",
       "      <th>시작_대여소명</th>\n",
       "      <th>전체_건수</th>\n",
       "      <th>전체_이용_분</th>\n",
       "      <th>전체_이용_거리</th>\n",
       "    </tr>\n",
       "  </thead>\n",
       "  <tbody>\n",
       "    <tr>\n",
       "      <th>0</th>\n",
       "      <td>20220101</td>\n",
       "      <td>0</td>\n",
       "      <td>0</td>\n",
       "      <td>ST-10</td>\n",
       "      <td>서교동_037_1</td>\n",
       "      <td>1</td>\n",
       "      <td>7</td>\n",
       "      <td>0.00</td>\n",
       "    </tr>\n",
       "    <tr>\n",
       "      <th>1</th>\n",
       "      <td>20220101</td>\n",
       "      <td>0</td>\n",
       "      <td>0</td>\n",
       "      <td>ST-1004</td>\n",
       "      <td>신정3동_075_1</td>\n",
       "      <td>1</td>\n",
       "      <td>17</td>\n",
       "      <td>1990.00</td>\n",
       "    </tr>\n",
       "    <tr>\n",
       "      <th>2</th>\n",
       "      <td>20220101</td>\n",
       "      <td>0</td>\n",
       "      <td>0</td>\n",
       "      <td>ST-1014</td>\n",
       "      <td>신정3동_101_1</td>\n",
       "      <td>1</td>\n",
       "      <td>9</td>\n",
       "      <td>1570.00</td>\n",
       "    </tr>\n",
       "    <tr>\n",
       "      <th>3</th>\n",
       "      <td>20220101</td>\n",
       "      <td>0</td>\n",
       "      <td>0</td>\n",
       "      <td>ST-1015</td>\n",
       "      <td>목5동_001_1</td>\n",
       "      <td>1</td>\n",
       "      <td>11</td>\n",
       "      <td>1640.62</td>\n",
       "    </tr>\n",
       "    <tr>\n",
       "      <th>4</th>\n",
       "      <td>20220101</td>\n",
       "      <td>0</td>\n",
       "      <td>0</td>\n",
       "      <td>ST-1016</td>\n",
       "      <td>신월4동_002_1</td>\n",
       "      <td>1</td>\n",
       "      <td>9</td>\n",
       "      <td>400.00</td>\n",
       "    </tr>\n",
       "  </tbody>\n",
       "</table>\n",
       "</div>"
      ],
      "text/plain": [
       "      기준_날짜  기준_집계  hour 시작_대여소_ID     시작_대여소명  전체_건수  전체_이용_분  전체_이용_거리\n",
       "0  20220101      0     0     ST-10   서교동_037_1      1        7      0.00\n",
       "1  20220101      0     0   ST-1004  신정3동_075_1      1       17   1990.00\n",
       "2  20220101      0     0   ST-1014  신정3동_101_1      1        9   1570.00\n",
       "3  20220101      0     0   ST-1015   목5동_001_1      1       11   1640.62\n",
       "4  20220101      0     0   ST-1016  신월4동_002_1      1        9    400.00"
      ]
     },
     "execution_count": 98,
     "metadata": {},
     "output_type": "execute_result"
    }
   ],
   "source": [
    "# 시작_대여소 기준 데이터 병합\n",
    "rental_df = rental_df.groupby(['기준_날짜', '기준_집계', 'hour', '시작_대여소_ID', '시작_대여소명']).sum().reset_index(drop=False)\n",
    "rental_df.head()"
   ]
  },
  {
   "cell_type": "code",
   "execution_count": 99,
   "metadata": {},
   "outputs": [],
   "source": [
    "station_group = rental_df[['시작_대여소_ID', '전체_건수']].groupby(\"시작_대여소_ID\").count()"
   ]
  },
  {
   "cell_type": "code",
   "execution_count": 100,
   "metadata": {},
   "outputs": [
    {
     "data": {
      "text/plain": [
       "<matplotlib.legend.Legend at 0x2a55a7670>"
      ]
     },
     "execution_count": 100,
     "metadata": {},
     "output_type": "execute_result"
    },
    {
     "data": {
      "image/png": "[encoded data removed]",
      "text/plain": [
       "<Figure size 640x480 with 1 Axes>"
      ]
     },
     "metadata": {},
     "output_type": "display_data"
    }
   ],
   "source": [
    "plt.boxplot(station_group['전체_건수'])\n",
    "plt.title(\"대여소별 대여 데이터 수량 boxplot\")\n",
    "plt.ylabel(\"데이터 수량 (건)\")\n",
    "plt.hlines(station_group['전체_건수'].min(), xmin=0, xmax=2, label=f\"최소값: {station_group['전체_건수'].min()}\")\n",
    "plt.legend()"
   ]
  },
  {
   "cell_type": "code",
   "execution_count": 101,
   "metadata": {},
   "outputs": [
    {
     "data": {
      "text/plain": [
       "Text(0.5, 0, '데이터 수량 (건)')"
      ]
     },
     "execution_count": 101,
     "metadata": {},
     "output_type": "execute_result"
    },
    {
     "data": {
      "image/png": "[encoded data removed]",
      "text/plain": [
       "<Figure size 640x480 with 1 Axes>"
      ]
     },
     "metadata": {},
     "output_type": "display_data"
    }
   ],
   "source": [
    "plt.hist(station_group['전체_건수'])\n",
    "plt.title(\"대여소별 데이터 수량 분포도\")\n",
    "plt.xlabel(\"데이터 수량 (건)\")"
   ]
  },
  {
   "cell_type": "markdown",
   "metadata": {},
   "source": [
    "이하 공유 자전거 데이터 변환에 대해서는 preprocess_bicycle.py 파일을 통해 확인할 것"
   ]
  }
 ],
 "metadata": {
  "kernelspec": {
   "display_name": "Python 3.8.15 ('ml')",
   "language": "python",
   "name": "python3"
  },
  "language_info": {
   "codemirror_mode": {
    "name": "ipython",
    "version": 3
   },
   "file_extension": ".py",
   "mimetype": "text/x-python",
   "name": "python",
   "nbconvert_exporter": "python",
   "pygments_lexer": "ipython3",
   "version": "3.8.15"
  },
  "orig_nbformat": 4,
  "vscode": {
   "interpreter": {
    "hash": "9a02f988fc695c93785f5affb614f9f1b9db6c3563e5328ca3f0884fef82637c"
   }
  }
 },
 "nbformat": 4,
 "nbformat_minor": 2
}

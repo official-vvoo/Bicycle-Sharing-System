{
 "cells": [
  {
   "cell_type": "code",
   "execution_count": null,
   "metadata": {},
   "outputs": [],
   "source": [
    "import os\n",
    "import random\n",
    "import pandas as pd\n",
    "import numpy as np\n",
    "import warnings\n",
    "warnings.filterwarnings('ignore')\n",
    "\n",
    "from sklearn.model_selection import train_test_split\n",
    "from sklearn import metrics\n",
    "from sklearn.metrics import mean_squared_error\n",
    "from sklearn.model_selection import GridSearchCV\n",
    "from sklearn.pipeline import Pipeline\n",
    "from sklearn.preprocessing import StandardScaler\n",
    "\n",
    "from xgboost import XGBRegressor\n",
    "from sklearn.ensemble import RandomForestRegressor\n",
    "from sklearn.svm import SVR \n",
    "import math\n",
    "import joblib \n",
    "\n",
    "random.seed(42)"
   ]
  },
  {
   "cell_type": "code",
   "execution_count": null,
   "metadata": {},
   "outputs": [],
   "source": [
    "# 최종 merge 데이터\n",
    "mergedata = pd.read_csv('data/total_df.csv', encoding='cp949')\n",
    "# mergedata = mergedata.sample(n=10000)\n",
    "# month 열 추가\n",
    "mergedata['기준_날짜시간']=pd.to_datetime(mergedata['기준_날짜시간'],format=\"%Y-%m-%d %H:%M:%S\")\n",
    "mergedata['month']=mergedata['기준_날짜시간'].dt.month\n",
    "# 학습시킬 features로 df 재구성 \n",
    "mergedata=mergedata[['month','time','요일', '전체_건수','버스 수', '버스_하차승객수', '지하철하차승객수', '강수', '기온', '풍속', 'dem']]\n",
    "# one-hot encoding\n",
    "mergedata=pd.get_dummies(mergedata, columns=['month','time','요일']) # 요일, month, time"
   ]
  },
  {
   "cell_type": "code",
   "execution_count": null,
   "metadata": {},
   "outputs": [],
   "source": [
    "mergedata"
   ]
  },
  {
   "cell_type": "code",
   "execution_count": null,
   "metadata": {},
   "outputs": [],
   "source": [
    "mergedata = mergedata.sample(10000)\n",
    "X_train, X_test, y_train, y_test = train_test_split(mergedata.drop('전체_건수',axis=1), mergedata['전체_건수'], test_size=0.2, random_state=42)"
   ]
  },
  {
   "cell_type": "code",
   "execution_count": null,
   "metadata": {},
   "outputs": [],
   "source": [
    "# SVR \n",
    "pipeline = Pipeline([('Scaler', StandardScaler()), ('SVR', SVR())])\n",
    "\n",
    "kernel_list = ['linear','rbf']\n",
    "C_list = [1, 10, 20]\n",
    "parameters = {'SVR__kernel':kernel_list, 'SVR__C':C_list}\n",
    "\n",
    "svm_grid = GridSearchCV(pipeline, parameters, cv=5, scoring = 'neg_root_mean_squared_error', n_jobs=-1) # 5-fold cross validation # 메모리 병렬처리 \n",
    "svm_grid.fit(X_train, y_train)\n",
    "\n",
    "svr_best_C = svm_grid.best_params_['SVR__C']\n",
    "svr_best_kernel = svm_grid.best_params_['SVR__kernel']\n",
    "\n",
    "reg = SVR(C = svr_best_C, \n",
    "          kernel = svr_best_kernel)\n",
    "reg.fit(X_train, y_train)\n",
    "\n",
    "y_pred=reg.predict(X_test)\n",
    "RMSE = math.sqrt(mean_squared_error(y_test, y_pred))\n",
    "\n",
    "print(\"SVR RMSE':{}\".format(RMSE))\n",
    "print(\"SVR best kernel:{}, best C:{}\".format(svr_best_kernel, svr_best_C))\n",
    "joblib.dump(reg,f'SVR_{round(RMSE,2)}_k{svr_best_kernel}_C{svr_best_C}.pkl')"
   ]
  },
  {
   "cell_type": "code",
   "execution_count": null,
   "metadata": {},
   "outputs": [],
   "source": []
  }
 ],
 "metadata": {
  "interpreter": {
   "hash": "7b34b089ce0dfc9935940e0a22050b2949fa617f7a2b73925623c261bed16aeb"
  },
  "kernelspec": {
   "display_name": "Python 3.8.5 ('base')",
   "language": "python",
   "name": "python3"
  },
  "language_info": {
   "codemirror_mode": {
    "name": "ipython",
    "version": 3
   },
   "file_extension": ".py",
   "mimetype": "text/x-python",
   "name": "python",
   "nbconvert_exporter": "python",
   "pygments_lexer": "ipython3",
   "version": "3.8.5"
  },
  "orig_nbformat": 4
 },
 "nbformat": 4,
 "nbformat_minor": 2
}
